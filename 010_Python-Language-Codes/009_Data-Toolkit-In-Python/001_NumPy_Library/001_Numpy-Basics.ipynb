{
 "cells": [
  {
   "cell_type": "markdown",
   "metadata": {},
   "source": [
    "# NumPy Library  \n",
    "\n",
    "NumPy (Numerical Python) is a fundamental library for numerical computing in Python.  \n",
    "It provides efficient support for multi-dimensional arrays, mathematical functions, and optimized operations, making it a key tool in scientific computing, data science, and machine learning.  \n",
    "\n",
    "## Key Features  \n",
    "- 🚀 **High Performance** – Optimized for handling large arrays and matrices efficiently.  \n",
    "- ⚡ **Vectorized Operations** – Eliminates the need for explicit loops, making computations faster.  \n",
    "- 🔄 **Broadcasting** – Enables element-wise operations on arrays of different shapes.  \n",
    "- 📊 **Comprehensive Mathematical Functions** – Supports linear algebra, statistical calculations, and complex number operations.  \n",
    "- 🔗 **Seamless Integration** – Works well with other scientific computing libraries like SciPy, Pandas, and TensorFlow.  \n",
    "\n",
    "## Installation  \n",
    "To install NumPy, use the following command:  \n",
    "```sh\n",
    "pip install numpy\n"
   ]
  },
  {
   "cell_type": "code",
   "execution_count": null,
   "metadata": {},
   "outputs": [
    {
     "name": "stdout",
     "output_type": "stream",
     "text": [
      "Yash Pandey\n"
     ]
    },
    {
     "data": {
      "text/plain": [
       "'2.2.4'"
      ]
     },
     "execution_count": 5,
     "metadata": {},
     "output_type": "execute_result"
    }
   ],
   "source": [
    "import numpy as np\n",
    "np.__version__"
   ]
  },
  {
   "cell_type": "code",
   "execution_count": null,
   "metadata": {},
   "outputs": [
    {
     "name": "stdout",
     "output_type": "stream",
     "text": [
      "[3 4 5 6]\n",
      "[ 3  6  9 12]\n"
     ]
    }
   ],
   "source": [
    "# Creating a 1D NumPy array\n",
    "numList=[1, 2, 3, 4]\n",
    "arr = np.array(numList)  # NumPy arrays are more efficient than Python lists\n",
    "\n",
    "# Element-wise operations\n",
    "print(arr + 2)  # Adds 2 to each element: [3 4 5 6]\n",
    "print(arr * 3)  # Multiplies each element by 3: [3 6 9 12]"
   ]
  },
  {
   "cell_type": "code",
   "execution_count": 7,
   "metadata": {},
   "outputs": [
    {
     "name": "stdout",
     "output_type": "stream",
     "text": [
      "2\n",
      "(2, 3)\n",
      "6\n",
      "2\n"
     ]
    }
   ],
   "source": [
    "# Creating a 2D array (Matrix)\n",
    "matrix = np.array([[1, 2, 3], [4, 5, 6]])  # 2x3 matrix\n",
    "\n",
    "# Accessing elements\n",
    "print(matrix[0, 1])  # Accesses element at row 0, column 1 (output: 2)\n",
    "print(matrix.shape)  # (2, 3) - Rows x Columns\n",
    "print(matrix.size)   # 6 - Total number of elements\n",
    "print(matrix.ndim)   # 2 -> 2D Dimension Of the Matrix...."
   ]
  },
  {
   "cell_type": "code",
   "execution_count": 8,
   "metadata": {},
   "outputs": [
    {
     "name": "stdout",
     "output_type": "stream",
     "text": [
      "Th Dimension Of arr Is : 1\n",
      "Th Dimension Of newarr Is : 1\n"
     ]
    }
   ],
   "source": [
    "# Another Way To Create Array Using np.asarray() & np.asanyarray().....\n",
    "# `np.asarray()` converts input to a NumPy array without making a copy if it's already an array.......\n",
    "#  while `np.asanyarray()` does the same but preserves subclasses like `np.matrix`.....\n",
    "l=[1,2,3]\n",
    "arr=np.asarray(l)\n",
    "newarr=np.asanyarray(arr)\n",
    "print(f\"Th Dimension Of arr Is : {arr.ndim}\") \n",
    "print(f\"Th Dimension Of newarr Is : {newarr.ndim}\") "
   ]
  },
  {
   "cell_type": "markdown",
   "metadata": {},
   "source": [
    "### Shallow Copy vs. Deep Copy in NumPy  \n",
    "\n",
    "```python\n",
    "import numpy as np  \n",
    "\n",
    "arr = np.array([1, 2, 3])  \n",
    "\n",
    "shallow = arr.view()  # Shallow Copy (shares data)\n",
    "deep = arr.copy()  # Deep Copy (independent copy)\n",
    "\n",
    "shallow[0] = 100  \n",
    "print(arr, deep)  # arr changes, deep remains same\n"
   ]
  },
  {
   "cell_type": "markdown",
   "metadata": {},
   "source": [
    "NumPy Methods Demonstration:\n",
    "- np.fromfunction(): Creates an array by executing a function over each coordinate.\n",
    "- np.fromiter(): Creates an array from an iterable.\n",
    "- np.arange(): Creates an array with a range of values.\n",
    "- np.fromstring(): Creates an array from a string.\n",
    "- np.linspace(): Creates an array with evenly spaced values.\n",
    "- np.logspace(): Creates an array with logarithmically spaced values."
   ]
  },
  {
   "cell_type": "code",
   "execution_count": 9,
   "metadata": {},
   "outputs": [
    {
     "name": "stdout",
     "output_type": "stream",
     "text": [
      "Array from function:\n",
      "[[0 1 2]\n",
      " [1 2 3]\n",
      " [2 3 4]]\n",
      "Shape: (3, 3)\n",
      "Size: 9\n"
     ]
    }
   ],
   "source": [
    "# np.fromfunction()\n",
    "def func(x, y):\n",
    "    return x + y\n",
    "arr_func = np.fromfunction(func, (3, 3), dtype=int)\n",
    "print(\"Array from function:\")\n",
    "print(arr_func)\n",
    "print(\"Shape:\", arr_func.shape)   # Returns the shape (dimensions) of an array.....\n",
    "print(\"Size:\", arr_func.size)     # Returns the total number of elements in an array....\n"
   ]
  },
  {
   "cell_type": "code",
   "execution_count": 11,
   "metadata": {},
   "outputs": [
    {
     "name": "stdout",
     "output_type": "stream",
     "text": [
      "\n",
      "Array from iterable: [1 2 3 4]\n"
     ]
    }
   ],
   "source": [
    "# np.fromiter()\n",
    "iterable = range(1,5)\n",
    "arr_iter = np.fromiter(iterable, dtype=int)\n",
    "print(\"\\nArray from iterable:\", arr_iter)"
   ]
  },
  {
   "cell_type": "code",
   "execution_count": 12,
   "metadata": {},
   "outputs": [
    {
     "name": "stdout",
     "output_type": "stream",
     "text": [
      "\n",
      "Array from arange: [1 3 5 7 9]\n"
     ]
    }
   ],
   "source": [
    "# np.arange()\n",
    "arr_arange = np.arange(1, 10, 2)\n",
    "print(\"\\nArray from arange:\", arr_arange)"
   ]
  },
  {
   "cell_type": "code",
   "execution_count": 13,
   "metadata": {},
   "outputs": [
    {
     "name": "stdout",
     "output_type": "stream",
     "text": [
      "\n",
      "Array from string: [1 2 3 4 5]\n"
     ]
    }
   ],
   "source": [
    "# np.fromstring()\n",
    "string_data = \"1 2 3 4 5\"\n",
    "arr_string = np.fromstring(string_data, dtype=int, sep=' ')\n",
    "print(\"\\nArray from string:\", arr_string)"
   ]
  },
  {
   "cell_type": "code",
   "execution_count": 14,
   "metadata": {},
   "outputs": [
    {
     "name": "stdout",
     "output_type": "stream",
     "text": [
      "\n",
      "Array from linspace: [ 1.    3.25  5.5   7.75 10.  ]\n"
     ]
    }
   ],
   "source": [
    "# np.linspace()\n",
    "arr_linspace = np.linspace(1, 10, 5)\n",
    "print(\"\\nArray from linspace:\", arr_linspace)"
   ]
  },
  {
   "cell_type": "code",
   "execution_count": 15,
   "metadata": {},
   "outputs": [
    {
     "name": "stdout",
     "output_type": "stream",
     "text": [
      "\n",
      "Array from logspace: [  10.           31.6227766   100.          316.22776602 1000.        ]\n"
     ]
    }
   ],
   "source": [
    "# np.logspace()\n",
    "arr_logspace = np.logspace(1, 3, 5)\n",
    "print(\"\\nArray from logspace:\", arr_logspace)"
   ]
  }
 ],
 "metadata": {
  "kernelspec": {
   "display_name": "venv",
   "language": "python",
   "name": "python3"
  },
  "language_info": {
   "codemirror_mode": {
    "name": "ipython",
    "version": 3
   },
   "file_extension": ".py",
   "mimetype": "text/x-python",
   "name": "python",
   "nbconvert_exporter": "python",
   "pygments_lexer": "ipython3",
   "version": "3.12.7"
  }
 },
 "nbformat": 4,
 "nbformat_minor": 2
}
