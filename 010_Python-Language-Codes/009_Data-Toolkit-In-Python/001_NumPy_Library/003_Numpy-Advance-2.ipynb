{
 "cells": [
  {
   "cell_type": "markdown",
   "metadata": {},
   "source": [
    "## NumPy Methods and Their Usage:\n",
    "\n",
    "- flatten() - Converts a multi-dimensional array into a 1D array.\n",
    "- expand_dims() - Expands the dimensions of an array, adding a new dimension.\n",
    "- squeeze() - Removes single-dimensional entries from an array.\n",
    "- repeat() - Repeats elements of an array along a specified axis.\n",
    "- roll() - Rolls array elements along a given axis.\n",
    "- where() - Returns indices where a condition is met.\n",
    "- extract() - Extracts elements from an array based on a condition.\n",
    "- byteswap() - Swaps the byte order of the array elements.\n",
    "- Operations on NumPy String Array - Various operations like uppercase, lowercase, split, etc.\n",
    "- Mathematical Operations in NumPy - Basic arithmetic operations on NumPy arrays."
   ]
  },
  {
   "cell_type": "code",
   "execution_count": 2,
   "metadata": {},
   "outputs": [],
   "source": [
    "import numpy as np\n",
    "\n",
    "# Creating a sample array\n",
    "arr = np.array([[1, 2, 3], [4, 5, 6]])"
   ]
  },
  {
   "cell_type": "code",
   "execution_count": 3,
   "metadata": {},
   "outputs": [
    {
     "name": "stdout",
     "output_type": "stream",
     "text": [
      "Flattened Array: [1 2 3 4 5 6]\n"
     ]
    }
   ],
   "source": [
    "# 1. flatten()\n",
    "flat_arr = arr.flatten()\n",
    "print(\"Flattened Array:\", flat_arr)"
   ]
  },
  {
   "cell_type": "code",
   "execution_count": 4,
   "metadata": {},
   "outputs": [
    {
     "name": "stdout",
     "output_type": "stream",
     "text": [
      "Expanded Array:\n",
      " [[[1 2 3]\n",
      "  [4 5 6]]]\n"
     ]
    }
   ],
   "source": [
    "# 2. expand_dims()\n",
    "expanded_arr = np.expand_dims(arr, axis=0)\n",
    "print(\"Expanded Array:\\n\", expanded_arr)"
   ]
  },
  {
   "cell_type": "markdown",
   "metadata": {},
   "source": [
    "### np.expand_dims(newArr, axis=0) \n",
    "- Adds a new dimension at axis 0 (rows).\n",
    "- Original Shape: (3, 3) → New Shape: (1, 3, 3)\n",
    "\n",
    "### np.expand_dims(newArr, axis=1)\n",
    "- Adds a new dimension at axis 1 (columns).\n",
    "- Original Shape: (3, 3) → New Shape: (3, 1, 3)"
   ]
  },
  {
   "cell_type": "code",
   "execution_count": null,
   "metadata": {},
   "outputs": [
    {
     "data": {
      "text/plain": [
       "array([[[1, 2, 3]],\n",
       "\n",
       "       [[4, 5, 6]],\n",
       "\n",
       "       [[7, 8, 9]]])"
      ]
     },
     "execution_count": 8,
     "metadata": {},
     "output_type": "execute_result"
    }
   ],
   "source": [
    "newArr=np.array([[1,2,3],[4,5,6],[7,8,9]])\n",
    "expanded_arr = np.expand_dims(newArr, axis=0)\n",
    "expanded_arr = np.expand_dims(newArr, axis=1)\n",
    "expanded_arr"
   ]
  },
  {
   "cell_type": "code",
   "execution_count": null,
   "metadata": {},
   "outputs": [
    {
     "name": "stdout",
     "output_type": "stream",
     "text": [
      "Squeezed Array: [1 4 7]\n"
     ]
    }
   ],
   "source": [
    "# 3. squeeze() : 2D -> 1D\n",
    "expanded_arr=np.array([[1],[4],[7]])\n",
    "squeezed_arr = np.squeeze(expanded_arr)\n",
    "print(\"Squeezed Array:\", squeezed_arr)"
   ]
  },
  {
   "cell_type": "markdown",
   "metadata": {},
   "source": [
    "### np.repeat(arr, num, axis)\n",
    "- arr: Input NumPy array.\n",
    "- num: Number of times each element should be repeated.\n",
    "- axis: The axis for repeat (0 for rows, 1 for columns).\n",
    "\n",
    "#### np.repeat(arr, 2, axis=0) -> Each row is repeated 2 times\n",
    "#### np.repeat(arr, 2, axis=1) -> Each col is repeated 2 times"
   ]
  },
  {
   "cell_type": "code",
   "execution_count": 13,
   "metadata": {},
   "outputs": [
    {
     "name": "stdout",
     "output_type": "stream",
     "text": [
      "Repeated Array: [[1 1 1 2 2 2 3 3 3]\n",
      " [4 4 4 5 5 5 6 6 6]]\n"
     ]
    }
   ],
   "source": [
    "# 4. repeat()\n",
    "arr = np.array([[1, 2, 3], [4, 5, 6]])\n",
    "repeated_arr = np.repeat(arr, 3, axis=1)\n",
    "print(\"Repeated Array:\", repeated_arr)"
   ]
  },
  {
   "cell_type": "markdown",
   "metadata": {},
   "source": [
    "### np.roll(arr, shift, axis)\n",
    "- arr: Input NumPy array.\n",
    "- shift: Number of times each element should be shifted . \n",
    "- Positive values shift to the right, negative values shift to the left.\n",
    "- axis: The axis for repeat (0 for rows, 1 for columns).\n",
    "\n",
    "#### np.roll(arr, 2, axis=0) -> Each row element is been shifted 2 times\n",
    "#### np.roll(arr, 2, axis=1) -> Each col element is been shifted 2 times"
   ]
  },
  {
   "cell_type": "code",
   "execution_count": 14,
   "metadata": {},
   "outputs": [
    {
     "name": "stdout",
     "output_type": "stream",
     "text": [
      "Rolled Array: [[3 1 2]\n",
      " [6 4 5]]\n"
     ]
    }
   ],
   "source": [
    "# 5. roll()\n",
    "arr = np.array([[1, 2, 3], [4, 5, 6]])\n",
    "rolled_arr = np.roll(arr, shift=1, axis=1)\n",
    "print(\"Rolled Array:\", rolled_arr)"
   ]
  },
  {
   "cell_type": "code",
   "execution_count": 15,
   "metadata": {},
   "outputs": [
    {
     "name": "stdout",
     "output_type": "stream",
     "text": [
      "Where Condition Result: [['Odd' 'Even' 'Odd']\n",
      " ['Even' 'Odd' 'Even']]\n"
     ]
    }
   ],
   "source": [
    "# 6. where()\n",
    "arr = np.array([[1, 2, 3], [4, 5, 6]])\n",
    "condition = arr % 2 == 0\n",
    "where_result = np.where(condition, \"Even\", \"Odd\")\n",
    "print(\"Where Condition Result:\", where_result)"
   ]
  },
  {
   "cell_type": "code",
   "execution_count": 16,
   "metadata": {},
   "outputs": [
    {
     "name": "stdout",
     "output_type": "stream",
     "text": [
      "Extracted Even Numbers: [2 4 6]\n"
     ]
    }
   ],
   "source": [
    "# 7. extract()\n",
    "arr = np.array([[1, 2, 3], [4, 5, 6]])\n",
    "extract_result = np.extract(condition, arr)\n",
    "print(\"Extracted Even Numbers:\", extract_result)"
   ]
  },
  {
   "cell_type": "markdown",
   "metadata": {},
   "source": [
    "Crux to Remember byteswap() 🔥\n",
    "👉 It flips the byte order of each element in the array.\n",
    "\n",
    "🛑 Think of it as reversing byte pairs\n",
    "\n",
    "Little-endian (LSB first) → Big-endian (MSB first)\n",
    "\n",
    "Big-endian (MSB first) → Little-endian (LSB first)\n",
    "\n",
    "💡 Shortcut Rule: Small number becomes big, big number becomes small.\n",
    "\n",
    "Example:\n",
    "\n",
    "1 (0x0001) → 256 (0x0100)\n",
    "\n",
    "256 (0x0100) → 1 (0x0001)\n",
    "\n",
    "1024 (0x0400) → 4 (0x0004)"
   ]
  },
  {
   "cell_type": "code",
   "execution_count": 17,
   "metadata": {},
   "outputs": [
    {
     "name": "stdout",
     "output_type": "stream",
     "text": [
      "Byte-swapped Array:\n",
      " [[ 256  512  768]\n",
      " [1024 1280 1536]]\n"
     ]
    }
   ],
   "source": [
    "# 8. byteswap()\n",
    "byte_swapped = arr.astype(np.int16).byteswap()\n",
    "print(\"Byte-swapped Array:\\n\", byte_swapped)"
   ]
  },
  {
   "cell_type": "code",
   "execution_count": 18,
   "metadata": {},
   "outputs": [
    {
     "name": "stdout",
     "output_type": "stream",
     "text": [
      "Uppercase: ['HELLO' 'WORLD' 'NUMPY']\n",
      "Lowercase: ['hello' 'world' 'numpy']\n",
      "Title Case: ['Hello' 'World' 'Numpy']\n",
      "Split Example: [list(['hell', '']) list(['w', 'rld']) list(['numpy'])]\n"
     ]
    }
   ],
   "source": [
    "# 9. Operations on NumPy String Array\n",
    "str_arr = np.array([\"hello\", \"world\", \"numpy\"])\n",
    "print(\"Uppercase:\", np.char.upper(str_arr))\n",
    "print(\"Lowercase:\", np.char.lower(str_arr))\n",
    "print(\"Title Case:\", np.char.title(str_arr))\n",
    "print(\"Split Example:\", np.char.split(str_arr, \"o\"))"
   ]
  },
  {
   "cell_type": "code",
   "execution_count": 19,
   "metadata": {},
   "outputs": [
    {
     "name": "stdout",
     "output_type": "stream",
     "text": [
      "Addition: [11 12 13 14]\n",
      "Subtraction: [-1  0  1  2]\n",
      "Multiplication: [ 3  6  9 12]\n",
      "Division: [0.5 1.  1.5 2. ]\n",
      "Exponentiation: [ 2.71828183  7.3890561  20.08553692 54.59815003]\n",
      "Square Root: [1.         1.41421356 1.73205081 2.        ]\n"
     ]
    }
   ],
   "source": [
    "# 10. Mathematical Operations in NumPy\n",
    "num_arr = np.array([1, 2, 3, 4])\n",
    "print(\"Addition:\", num_arr + 10)\n",
    "print(\"Subtraction:\", num_arr - 2)\n",
    "print(\"Multiplication:\", num_arr * 3)\n",
    "print(\"Division:\", num_arr / 2)\n",
    "print(\"Exponentiation:\", np.exp(num_arr))\n",
    "print(\"Square Root:\", np.sqrt(num_arr))"
   ]
  }
 ],
 "metadata": {
  "kernelspec": {
   "display_name": "venv",
   "language": "python",
   "name": "python3"
  },
  "language_info": {
   "codemirror_mode": {
    "name": "ipython",
    "version": 3
   },
   "file_extension": ".py",
   "mimetype": "text/x-python",
   "name": "python",
   "nbconvert_exporter": "python",
   "pygments_lexer": "ipython3",
   "version": "3.12.7"
  }
 },
 "nbformat": 4,
 "nbformat_minor": 2
}
