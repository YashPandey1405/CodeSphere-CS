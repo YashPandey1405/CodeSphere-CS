{
 "cells": [
  {
   "cell_type": "markdown",
   "metadata": {},
   "source": [
    "NumPy Methods Explanation:\n",
    "- zeros(): Creates an array filled with zeros.\n",
    "- ones(): Creates an array filled with ones.\n",
    "- eye(): Creates an identity matrix.\n",
    "- empty(): Creates an uninitialized array with random values.\n",
    "- reshape(): Changes the shape of an array without altering its data.\n",
    "- @ and np.dot(): Used for matrix multiplication.\n",
    "- T (Transpose): Transposes rows and columns of a matrix.\n",
    "- sqrt(): Computes the square root of each element in an array.\n",
    "- log10(): Computes the base-10 logarithm of each element.\n",
    "- exp(): Computes the exponential (e^x) of each element.\n",
    "- min(), max(): Finds the minimum and maximum values in an array.\n",
    "- np.random(): Generates random numbers.\n"
   ]
  },
  {
   "cell_type": "code",
   "execution_count": 1,
   "metadata": {},
   "outputs": [],
   "source": [
    "import numpy as np"
   ]
  },
  {
   "cell_type": "code",
   "execution_count": 9,
   "metadata": {},
   "outputs": [],
   "source": [
    "import numpy as np  \n",
    "\n",
    "# Creating different types of arrays  \n",
    "zero_array = np.zeros((3, 3))  # 3x3 array filled with zeros  \n",
    "ones_array = np.ones((2, 2))  # 2x2 array filled with ones  \n",
    "identity_matrix = np.eye(3)  # 3x3 Identity matrix  \n",
    "empty_array = np.empty((2, 3))  # 2x3 uninitialized array (contains random values)  "
   ]
  },
  {
   "cell_type": "code",
   "execution_count": 10,
   "metadata": {},
   "outputs": [
    {
     "name": "stdout",
     "output_type": "stream",
     "text": [
      "Reshaped Array:\n",
      " [[0 1 2]\n",
      " [3 4 5]]\n"
     ]
    }
   ],
   "source": [
    "# Reshaping an array  \n",
    "reshaped_array = np.arange(6).reshape((2, 3))  # Reshaping a range of 6 elements into 2x3  \n",
    "print(\"Reshaped Array:\\n\", reshaped_array)  \n"
   ]
  },
  {
   "cell_type": "code",
   "execution_count": 11,
   "metadata": {},
   "outputs": [
    {
     "name": "stdout",
     "output_type": "stream",
     "text": [
      "Matrix Multiplication (@ operator):\n",
      " [[19 22]\n",
      " [43 50]]\n",
      "Matrix Multiplication (np.dot):\n",
      " [[19 22]\n",
      " [43 50]]\n"
     ]
    }
   ],
   "source": [
    "# Matrix multiplication  \n",
    "A = np.array([[1, 2], [3, 4]])  \n",
    "B = np.array([[5, 6], [7, 8]])  \n",
    "matmul_1 = A @ B  # Using '@' operator  \n",
    "matmul_2 = np.dot(A, B)  # Using np.dot() function  \n",
    "\n",
    "print(\"Matrix Multiplication (@ operator):\\n\", matmul_1)  \n",
    "print(\"Matrix Multiplication (np.dot):\\n\", matmul_2)  "
   ]
  },
  {
   "cell_type": "code",
   "execution_count": 12,
   "metadata": {},
   "outputs": [
    {
     "name": "stdout",
     "output_type": "stream",
     "text": [
      "Transposed Matrix A:\n",
      " [[1 3]\n",
      " [2 4]]\n"
     ]
    }
   ],
   "source": [
    "# Transpose of a matrix  \n",
    "transposed_A = A.T  # Transposing matrix A  \n",
    "print(\"Transposed Matrix A:\\n\", transposed_A)  "
   ]
  },
  {
   "cell_type": "code",
   "execution_count": 14,
   "metadata": {},
   "outputs": [],
   "source": [
    "# Mathematical operations  \n",
    "sqrt_array = np.sqrt(np.array([4, 9, 16]))  # Square root of each element  \n",
    "log_array = np.log10(np.array([10, 100, 1000]))  # Log base 10 of elements  \n",
    "exp_array = np.exp(np.array([1, 2, 3]))  # Exponential of each element  "
   ]
  },
  {
   "cell_type": "markdown",
   "metadata": {},
   "source": [
    "### np.random.rand(x , y)\n",
    "\n",
    "- Generates a (x , y) Dimension matrix \n",
    "- All Elements Are filled with random floating-point numbers.\n",
    "- The values are uniformly distributed in the range [0, 1) (excluding 1)."
   ]
  },
  {
   "cell_type": "code",
   "execution_count": 15,
   "metadata": {},
   "outputs": [
    {
     "name": "stdout",
     "output_type": "stream",
     "text": [
      "Random Array:\n",
      " [[0.7104673  0.23013323 0.57094602]\n",
      " [0.62307144 0.4375271  0.64120023]\n",
      " [0.63235933 0.10082227 0.26677431]]\n",
      "Minimum Value: 0.10082227431510982\n",
      "Maximum Value: 0.7104673005677381\n"
     ]
    }
   ],
   "source": [
    "# Finding min and max values in a random array  \n",
    "random_array = np.random.rand(3, 3)  # 3x3 array with random values  \n",
    "min_value = random_array.min()  # Minimum value  \n",
    "max_value = random_array.max()  # Maximum value  \n",
    "\n",
    "print(\"Random Array:\\n\", random_array)  \n",
    "print(\"Minimum Value:\", min_value)  \n",
    "print(\"Maximum Value:\", max_value)  "
   ]
  },
  {
   "cell_type": "code",
   "execution_count": null,
   "metadata": {},
   "outputs": [
    {
     "name": "stdout",
     "output_type": "stream",
     "text": [
      "Random Numbers:\n",
      " [0.2693754  0.18099279 0.05723473 0.83554192 0.6888865 ]\n",
      "The Min Value In The Linear Array Is : 0.057234734392530795\n",
      "The Max Value In The Linear Array Is : 0.835541915344409\n"
     ]
    }
   ],
   "source": [
    "# Array of 5 random values between 0 and 1  \n",
    "random_numbers = np.random.rand(5)  \n",
    "\n",
    "# Printing the array  \n",
    "print(\"Random Numbers:\\n\", random_numbers)  \n",
    "\n",
    "# Printing the min and max values  \n",
    "print(f\"The Min Value In The Linear Array Is : {random_numbers.min()}\")  # Minimum value  \n",
    "print(f\"The Max Value In The Linear Array Is : {random_numbers.max()}\")  # Maximum value  "
   ]
  }
 ],
 "metadata": {
  "kernelspec": {
   "display_name": "venv",
   "language": "python",
   "name": "python3"
  },
  "language_info": {
   "codemirror_mode": {
    "name": "ipython",
    "version": 3
   },
   "file_extension": ".py",
   "mimetype": "text/x-python",
   "name": "python",
   "nbconvert_exporter": "python",
   "pygments_lexer": "ipython3",
   "version": "3.12.7"
  }
 },
 "nbformat": 4,
 "nbformat_minor": 2
}
